{
 "cells": [
  {
   "cell_type": "markdown",
   "id": "b6756571-b5a3-406f-b952-6f4e57677be4",
   "metadata": {},
   "source": [
    "# Disaster Tweet project"
   ]
  },
  {
   "cell_type": "code",
   "execution_count": 1,
   "id": "8ddb499a-08e0-4f32-9357-7288003f700b",
   "metadata": {},
   "outputs": [],
   "source": [
    "!pip install tensorflow -q"
   ]
  },
  {
   "cell_type": "code",
   "execution_count": 2,
   "id": "a365da22-362a-4638-9940-9e9e2d4e4ca4",
   "metadata": {},
   "outputs": [],
   "source": [
    "!pip install spacy -q"
   ]
  },
  {
   "cell_type": "markdown",
   "id": "ca903334-df3c-438c-a71b-b9960257611d",
   "metadata": {},
   "source": [
    "### Import libraries"
   ]
  },
  {
   "cell_type": "code",
   "execution_count": 35,
   "id": "65fb201a-3797-4752-b317-5b16024aed90",
   "metadata": {},
   "outputs": [],
   "source": [
    "import pandas as pd\n",
    "import numpy as np\n",
    "import io\n",
    "import os\n",
    "import re\n",
    "import shutil\n",
    "import string\n",
    "import tensorflow as tf\n",
    "\n",
    "from tensorflow.keras import Sequential\n",
    "from tensorflow.keras.layers import Dense, Embedding, GlobalAveragePooling1D\n",
    "from tensorflow.keras.layers.experimental.preprocessing import TextVectorization\n",
    "from tensorflow.keras.layers import SimpleRNN\n",
    "from tensorflow.keras.layers import LSTM"
   ]
  },
  {
   "cell_type": "markdown",
   "id": "2fa22a8f-b968-435d-aee3-d61b04adec58",
   "metadata": {},
   "source": [
    "### Usual EDA"
   ]
  },
  {
   "cell_type": "code",
   "execution_count": 4,
   "id": "fe88bd79-bc79-4311-9991-c4217d80cb77",
   "metadata": {},
   "outputs": [
    {
     "data": {
      "text/html": [
       "<div>\n",
       "<style scoped>\n",
       "    .dataframe tbody tr th:only-of-type {\n",
       "        vertical-align: middle;\n",
       "    }\n",
       "\n",
       "    .dataframe tbody tr th {\n",
       "        vertical-align: top;\n",
       "    }\n",
       "\n",
       "    .dataframe thead th {\n",
       "        text-align: right;\n",
       "    }\n",
       "</style>\n",
       "<table border=\"1\" class=\"dataframe\">\n",
       "  <thead>\n",
       "    <tr style=\"text-align: right;\">\n",
       "      <th></th>\n",
       "      <th>id</th>\n",
       "      <th>keyword</th>\n",
       "      <th>location</th>\n",
       "      <th>text</th>\n",
       "      <th>target</th>\n",
       "    </tr>\n",
       "  </thead>\n",
       "  <tbody>\n",
       "    <tr>\n",
       "      <th>0</th>\n",
       "      <td>1</td>\n",
       "      <td>NaN</td>\n",
       "      <td>NaN</td>\n",
       "      <td>Our Deeds are the Reason of this #earthquake M...</td>\n",
       "      <td>1</td>\n",
       "    </tr>\n",
       "    <tr>\n",
       "      <th>1</th>\n",
       "      <td>4</td>\n",
       "      <td>NaN</td>\n",
       "      <td>NaN</td>\n",
       "      <td>Forest fire near La Ronge Sask. Canada</td>\n",
       "      <td>1</td>\n",
       "    </tr>\n",
       "    <tr>\n",
       "      <th>2</th>\n",
       "      <td>5</td>\n",
       "      <td>NaN</td>\n",
       "      <td>NaN</td>\n",
       "      <td>All residents asked to 'shelter in place' are ...</td>\n",
       "      <td>1</td>\n",
       "    </tr>\n",
       "    <tr>\n",
       "      <th>3</th>\n",
       "      <td>6</td>\n",
       "      <td>NaN</td>\n",
       "      <td>NaN</td>\n",
       "      <td>13,000 people receive #wildfires evacuation or...</td>\n",
       "      <td>1</td>\n",
       "    </tr>\n",
       "    <tr>\n",
       "      <th>4</th>\n",
       "      <td>7</td>\n",
       "      <td>NaN</td>\n",
       "      <td>NaN</td>\n",
       "      <td>Just got sent this photo from Ruby #Alaska as ...</td>\n",
       "      <td>1</td>\n",
       "    </tr>\n",
       "  </tbody>\n",
       "</table>\n",
       "</div>"
      ],
      "text/plain": [
       "   id keyword location                                               text  \\\n",
       "0   1     NaN      NaN  Our Deeds are the Reason of this #earthquake M...   \n",
       "1   4     NaN      NaN             Forest fire near La Ronge Sask. Canada   \n",
       "2   5     NaN      NaN  All residents asked to 'shelter in place' are ...   \n",
       "3   6     NaN      NaN  13,000 people receive #wildfires evacuation or...   \n",
       "4   7     NaN      NaN  Just got sent this photo from Ruby #Alaska as ...   \n",
       "\n",
       "   target  \n",
       "0       1  \n",
       "1       1  \n",
       "2       1  \n",
       "3       1  \n",
       "4       1  "
      ]
     },
     "execution_count": 4,
     "metadata": {},
     "output_type": "execute_result"
    }
   ],
   "source": [
    "data = pd.read_csv(\"Disaster_Tweets_Train.csv\")\n",
    "data.head()"
   ]
  },
  {
   "cell_type": "code",
   "execution_count": 118,
   "id": "ea317577-2ef7-408c-b9c4-789a04f211e6",
   "metadata": {},
   "outputs": [
    {
     "data": {
      "text/plain": [
       "'deluged'"
      ]
     },
     "execution_count": 118,
     "metadata": {},
     "output_type": "execute_result"
    }
   ],
   "source": [
    "data.iloc[2222,1]"
   ]
  },
  {
   "cell_type": "code",
   "execution_count": 5,
   "id": "30447299-9269-4142-b031-6acff27ec70e",
   "metadata": {},
   "outputs": [
    {
     "data": {
      "text/plain": [
       "0    4342\n",
       "1    3271\n",
       "Name: target, dtype: int64"
      ]
     },
     "execution_count": 5,
     "metadata": {},
     "output_type": "execute_result"
    }
   ],
   "source": [
    "# check if the target is balanced\n",
    "data[\"target\"].value_counts()"
   ]
  },
  {
   "cell_type": "code",
   "execution_count": 6,
   "id": "ec94842f-1974-460a-b3e9-7aa08e76fcab",
   "metadata": {},
   "outputs": [
    {
     "data": {
      "text/plain": [
       "False    7552\n",
       "True       61\n",
       "Name: keyword, dtype: int64"
      ]
     },
     "execution_count": 6,
     "metadata": {},
     "output_type": "execute_result"
    }
   ],
   "source": [
    "# check on missing values\n",
    "data[\"keyword\"].isna().value_counts()"
   ]
  },
  {
   "cell_type": "code",
   "execution_count": 7,
   "id": "e4988903-fe1f-419d-84a5-27badb0218e9",
   "metadata": {},
   "outputs": [
    {
     "data": {
      "text/plain": [
       "False    5080\n",
       "True     2533\n",
       "Name: location, dtype: int64"
      ]
     },
     "execution_count": 7,
     "metadata": {},
     "output_type": "execute_result"
    }
   ],
   "source": [
    "# check on missing values\n",
    "data[\"location\"].isna().value_counts()"
   ]
  },
  {
   "cell_type": "code",
   "execution_count": 8,
   "id": "0389f202-3774-4f99-957a-5a675b4c1739",
   "metadata": {},
   "outputs": [
    {
     "name": "stdout",
     "output_type": "stream",
     "text": [
      "<class 'pandas.core.frame.DataFrame'>\n",
      "RangeIndex: 7613 entries, 0 to 7612\n",
      "Data columns (total 5 columns):\n",
      " #   Column    Non-Null Count  Dtype \n",
      "---  ------    --------------  ----- \n",
      " 0   id        7613 non-null   int64 \n",
      " 1   keyword   7552 non-null   object\n",
      " 2   location  5080 non-null   object\n",
      " 3   text      7613 non-null   object\n",
      " 4   target    7613 non-null   int64 \n",
      "dtypes: int64(2), object(3)\n",
      "memory usage: 297.5+ KB\n"
     ]
    }
   ],
   "source": [
    "data.info()"
   ]
  },
  {
   "cell_type": "code",
   "execution_count": 9,
   "id": "f83a2d96-0675-41a9-8833-09844a6b3873",
   "metadata": {},
   "outputs": [
    {
     "data": {
      "text/html": [
       "<div>\n",
       "<style scoped>\n",
       "    .dataframe tbody tr th:only-of-type {\n",
       "        vertical-align: middle;\n",
       "    }\n",
       "\n",
       "    .dataframe tbody tr th {\n",
       "        vertical-align: top;\n",
       "    }\n",
       "\n",
       "    .dataframe thead th {\n",
       "        text-align: right;\n",
       "    }\n",
       "</style>\n",
       "<table border=\"1\" class=\"dataframe\">\n",
       "  <thead>\n",
       "    <tr style=\"text-align: right;\">\n",
       "      <th></th>\n",
       "      <th>id</th>\n",
       "      <th>keyword</th>\n",
       "      <th>location</th>\n",
       "      <th>text</th>\n",
       "      <th>target</th>\n",
       "    </tr>\n",
       "  </thead>\n",
       "  <tbody>\n",
       "    <tr>\n",
       "      <th>0</th>\n",
       "      <td>1</td>\n",
       "      <td></td>\n",
       "      <td></td>\n",
       "      <td>Our Deeds are the Reason of this #earthquake M...</td>\n",
       "      <td>1</td>\n",
       "    </tr>\n",
       "    <tr>\n",
       "      <th>1</th>\n",
       "      <td>4</td>\n",
       "      <td></td>\n",
       "      <td></td>\n",
       "      <td>Forest fire near La Ronge Sask. Canada</td>\n",
       "      <td>1</td>\n",
       "    </tr>\n",
       "    <tr>\n",
       "      <th>2</th>\n",
       "      <td>5</td>\n",
       "      <td></td>\n",
       "      <td></td>\n",
       "      <td>All residents asked to 'shelter in place' are ...</td>\n",
       "      <td>1</td>\n",
       "    </tr>\n",
       "    <tr>\n",
       "      <th>3</th>\n",
       "      <td>6</td>\n",
       "      <td></td>\n",
       "      <td></td>\n",
       "      <td>13,000 people receive #wildfires evacuation or...</td>\n",
       "      <td>1</td>\n",
       "    </tr>\n",
       "    <tr>\n",
       "      <th>4</th>\n",
       "      <td>7</td>\n",
       "      <td></td>\n",
       "      <td></td>\n",
       "      <td>Just got sent this photo from Ruby #Alaska as ...</td>\n",
       "      <td>1</td>\n",
       "    </tr>\n",
       "  </tbody>\n",
       "</table>\n",
       "</div>"
      ],
      "text/plain": [
       "   id keyword location                                               text  \\\n",
       "0   1                   Our Deeds are the Reason of this #earthquake M...   \n",
       "1   4                              Forest fire near La Ronge Sask. Canada   \n",
       "2   5                   All residents asked to 'shelter in place' are ...   \n",
       "3   6                   13,000 people receive #wildfires evacuation or...   \n",
       "4   7                   Just got sent this photo from Ruby #Alaska as ...   \n",
       "\n",
       "   target  \n",
       "0       1  \n",
       "1       1  \n",
       "2       1  \n",
       "3       1  \n",
       "4       1  "
      ]
     },
     "execution_count": 9,
     "metadata": {},
     "output_type": "execute_result"
    }
   ],
   "source": [
    "data = data.fillna('')\n",
    "data.head()"
   ]
  },
  {
   "cell_type": "markdown",
   "id": "b47e475c-bda8-4f70-ad33-e1480d196336",
   "metadata": {},
   "source": [
    "### Word Embedding : preprocessings"
   ]
  },
  {
   "cell_type": "code",
   "execution_count": 10,
   "id": "0104b99b-fb6f-4bb1-bc74-1f240a307768",
   "metadata": {},
   "outputs": [
    {
     "name": "stdout",
     "output_type": "stream",
     "text": [
      "2022-03-01 08:09:01.843065: W tensorflow/stream_executor/platform/default/dso_loader.cc:64] Could not load dynamic library 'libcudart.so.11.0'; dlerror: libcudart.so.11.0: cannot open shared object file: No such file or directory\n",
      "2022-03-01 08:09:01.843107: I tensorflow/stream_executor/cuda/cudart_stub.cc:29] Ignore above cudart dlerror if you do not have a GPU set up on your machine.\n",
      "\u001b[38;5;2m✔ Download and installation successful\u001b[0m\n",
      "You can now load the package via spacy.load('en_core_web_sm')\n"
     ]
    }
   ],
   "source": [
    "!python -m spacy download en_core_web_sm -q"
   ]
  },
  {
   "cell_type": "code",
   "execution_count": 11,
   "id": "9f15b29d-c574-463a-99b1-8268407ed82d",
   "metadata": {},
   "outputs": [],
   "source": [
    "# Import Spacy and english initialisation\n",
    "import en_core_web_sm\n",
    "nlp = en_core_web_sm.load()"
   ]
  },
  {
   "cell_type": "code",
   "execution_count": 12,
   "id": "a8d048f5-a5aa-4c7b-b128-e23db4c93679",
   "metadata": {},
   "outputs": [],
   "source": [
    "# Import Stop words \n",
    "from spacy.lang.en.stop_words import STOP_WORDS"
   ]
  },
  {
   "cell_type": "markdown",
   "id": "8178e0cc-8e34-4f0c-a74c-75c324cb5453",
   "metadata": {},
   "source": [
    "##### Define function to clean text :\n",
    "\n",
    "- Remove non-alphanumeric characters\n",
    "- lower characters\n",
    "- lemmatize words and remove stop words\n",
    "- Remove digits and replace with space\n",
    "- Remove one-character-long \"words\"\n",
    "\n",
    "note = some tweets contain urls starting with \"http\". I tried removing them, but it seemed to negatively impact the performance of models that's why I silenced this command."
   ]
  },
  {
   "cell_type": "code",
   "execution_count": 270,
   "id": "08790089-1d42-4440-9920-4a59ebdac445",
   "metadata": {},
   "outputs": [],
   "source": [
    "#Define function to clean text :\n",
    "\n",
    "pattern = r'[0-9]'\n",
    "prefixes = \"http\"\n",
    "def clean_text(text):\n",
    "  text = \"\".join([ch for ch in text if ch.isalnum() or ch == \" \"])\n",
    "  text = re.sub(\" +\", \" \", text).lower().strip()\n",
    "  text = \" \".join([token.lemma_ for token in nlp(text) if token.text not in STOP_WORDS and token.lemma_ not in STOP_WORDS])\n",
    "  #text = \" \".join([x for x in text.split() if not x.startswith(prefixes)])\n",
    "  text = re.sub(pattern, ' ', text)\n",
    "  text = ' '.join( [w for w in text.split() if len(w)>1] )\n",
    "\n",
    "  return text"
   ]
  },
  {
   "cell_type": "markdown",
   "id": "3db5e283-fd3f-49f0-962b-1fb6f8a2e8c9",
   "metadata": {},
   "source": [
    "##### Clean features\n",
    "\n",
    "note : I chose not to use the location as a feature"
   ]
  },
  {
   "cell_type": "code",
   "execution_count": null,
   "id": "a8992aa6-08be-4751-b26c-44d744bd69ce",
   "metadata": {},
   "outputs": [],
   "source": [
    "data[\"text_clean\"] = data[\"text\"].apply(lambda x: clean_text(x))\n",
    "data[\"keyword_clean\"] = data[\"keyword\"].astype(str).apply(lambda x: clean_text(x)+\" \")"
   ]
  },
  {
   "cell_type": "code",
   "execution_count": 358,
   "id": "59c568c2-77e7-484e-a841-310ed3136dd3",
   "metadata": {},
   "outputs": [],
   "source": [
    "data[\"all_text_clean\"] = +data[\"keyword_clean\"] + data[\"text_clean\"]"
   ]
  },
  {
   "cell_type": "markdown",
   "id": "19cb2c0f-640a-49ff-badb-b1875f7e069c",
   "metadata": {},
   "source": [
    "##### Encoding text"
   ]
  },
  {
   "cell_type": "code",
   "execution_count": 359,
   "id": "a9f37742-c01e-45f9-96a9-236c2a802e5e",
   "metadata": {},
   "outputs": [],
   "source": [
    "tokenizer = tf.keras.preprocessing.text.Tokenizer(num_words=2000) # instanciate the tokenizer\n",
    "tokenizer.fit_on_texts(data.all_text_clean)\n",
    "data[\"all_text_encoded\"] = tokenizer.texts_to_sequences(data.all_text_clean)\n",
    "\n",
    "data[\"len\"] = data[\"all_text_encoded\"].apply(lambda x: len(x))\n",
    "data = data[data[\"len\"]!=0]"
   ]
  },
  {
   "cell_type": "code",
   "execution_count": 360,
   "id": "4b56420e-087e-491b-a56a-9eaeda4645ea",
   "metadata": {},
   "outputs": [
    {
     "data": {
      "text/html": [
       "<div>\n",
       "<style scoped>\n",
       "    .dataframe tbody tr th:only-of-type {\n",
       "        vertical-align: middle;\n",
       "    }\n",
       "\n",
       "    .dataframe tbody tr th {\n",
       "        vertical-align: top;\n",
       "    }\n",
       "\n",
       "    .dataframe thead th {\n",
       "        text-align: right;\n",
       "    }\n",
       "</style>\n",
       "<table border=\"1\" class=\"dataframe\">\n",
       "  <thead>\n",
       "    <tr style=\"text-align: right;\">\n",
       "      <th></th>\n",
       "      <th>id</th>\n",
       "      <th>keyword</th>\n",
       "      <th>location</th>\n",
       "      <th>text</th>\n",
       "      <th>target</th>\n",
       "      <th>text_clean</th>\n",
       "      <th>keyword_clean</th>\n",
       "      <th>location_clean</th>\n",
       "      <th>all_text_clean</th>\n",
       "      <th>all_text_encoded</th>\n",
       "      <th>len</th>\n",
       "    </tr>\n",
       "  </thead>\n",
       "  <tbody>\n",
       "    <tr>\n",
       "      <th>0</th>\n",
       "      <td>1</td>\n",
       "      <td></td>\n",
       "      <td></td>\n",
       "      <td>Our Deeds are the Reason of this #earthquake M...</td>\n",
       "      <td>1</td>\n",
       "      <td>deed reason earthquake allah forgive</td>\n",
       "      <td></td>\n",
       "      <td></td>\n",
       "      <td>deed reason earthquake allah forgive</td>\n",
       "      <td>[441, 97, 1384, 1961]</td>\n",
       "      <td>4</td>\n",
       "    </tr>\n",
       "    <tr>\n",
       "      <th>1</th>\n",
       "      <td>4</td>\n",
       "      <td></td>\n",
       "      <td></td>\n",
       "      <td>Forest fire near La Ronge Sask. Canada</td>\n",
       "      <td>1</td>\n",
       "      <td>forest fire near la ronge sask canada</td>\n",
       "      <td></td>\n",
       "      <td></td>\n",
       "      <td>forest fire near la ronge sask canada</td>\n",
       "      <td>[68, 2, 257, 488, 1031]</td>\n",
       "      <td>5</td>\n",
       "    </tr>\n",
       "    <tr>\n",
       "      <th>2</th>\n",
       "      <td>5</td>\n",
       "      <td></td>\n",
       "      <td></td>\n",
       "      <td>All residents asked to 'shelter in place' are ...</td>\n",
       "      <td>1</td>\n",
       "      <td>resident ask shelter place notify officer evac...</td>\n",
       "      <td></td>\n",
       "      <td></td>\n",
       "      <td>resident ask shelter place notify officer eva...</td>\n",
       "      <td>[1385, 470, 1712, 380, 364, 101, 1712, 380, 35...</td>\n",
       "      <td>10</td>\n",
       "    </tr>\n",
       "    <tr>\n",
       "      <th>3</th>\n",
       "      <td>6</td>\n",
       "      <td></td>\n",
       "      <td></td>\n",
       "      <td>13,000 people receive #wildfires evacuation or...</td>\n",
       "      <td>1</td>\n",
       "      <td>people receive wildfire evacuation order calif...</td>\n",
       "      <td></td>\n",
       "      <td></td>\n",
       "      <td>people receive wildfire evacuation order cali...</td>\n",
       "      <td>[19, 73, 101, 356, 69]</td>\n",
       "      <td>5</td>\n",
       "    </tr>\n",
       "    <tr>\n",
       "      <th>4</th>\n",
       "      <td>7</td>\n",
       "      <td></td>\n",
       "      <td></td>\n",
       "      <td>Just got sent this photo from Ruby #Alaska as ...</td>\n",
       "      <td>1</td>\n",
       "      <td>got send photo ruby alaska smoke wildfires pou...</td>\n",
       "      <td></td>\n",
       "      <td></td>\n",
       "      <td>got send photo ruby alaska smoke wildfires po...</td>\n",
       "      <td>[288, 281, 211, 1713, 102, 180]</td>\n",
       "      <td>6</td>\n",
       "    </tr>\n",
       "  </tbody>\n",
       "</table>\n",
       "</div>"
      ],
      "text/plain": [
       "   id keyword location                                               text  \\\n",
       "0   1                   Our Deeds are the Reason of this #earthquake M...   \n",
       "1   4                              Forest fire near La Ronge Sask. Canada   \n",
       "2   5                   All residents asked to 'shelter in place' are ...   \n",
       "3   6                   13,000 people receive #wildfires evacuation or...   \n",
       "4   7                   Just got sent this photo from Ruby #Alaska as ...   \n",
       "\n",
       "   target                                         text_clean keyword_clean  \\\n",
       "0       1               deed reason earthquake allah forgive                 \n",
       "1       1              forest fire near la ronge sask canada                 \n",
       "2       1  resident ask shelter place notify officer evac...                 \n",
       "3       1  people receive wildfire evacuation order calif...                 \n",
       "4       1  got send photo ruby alaska smoke wildfires pou...                 \n",
       "\n",
       "  location_clean                                     all_text_clean  \\\n",
       "0                              deed reason earthquake allah forgive   \n",
       "1                             forest fire near la ronge sask canada   \n",
       "2                  resident ask shelter place notify officer eva...   \n",
       "3                  people receive wildfire evacuation order cali...   \n",
       "4                  got send photo ruby alaska smoke wildfires po...   \n",
       "\n",
       "                                    all_text_encoded  len  \n",
       "0                              [441, 97, 1384, 1961]    4  \n",
       "1                            [68, 2, 257, 488, 1031]    5  \n",
       "2  [1385, 470, 1712, 380, 364, 101, 1712, 380, 35...   10  \n",
       "3                             [19, 73, 101, 356, 69]    5  \n",
       "4                    [288, 281, 211, 1713, 102, 180]    6  "
      ]
     },
     "execution_count": 360,
     "metadata": {},
     "output_type": "execute_result"
    }
   ],
   "source": [
    "data.head()"
   ]
  },
  {
   "cell_type": "markdown",
   "id": "e489fee4-a798-4b51-a577-a69e447af4dc",
   "metadata": {},
   "source": [
    "#### Padding vectors"
   ]
  },
  {
   "cell_type": "code",
   "execution_count": 361,
   "id": "8d683bde-53a7-418e-bc48-451938859331",
   "metadata": {},
   "outputs": [],
   "source": [
    "text_pad = tf.keras.preprocessing.sequence.pad_sequences(data.all_text_encoded, padding=\"post\")"
   ]
  },
  {
   "cell_type": "code",
   "execution_count": 362,
   "id": "e9da020b-c1d0-44af-a59d-f5012be7ea38",
   "metadata": {},
   "outputs": [],
   "source": [
    "full_ds = tf.data.Dataset.from_tensor_slices((text_pad, data.target))"
   ]
  },
  {
   "cell_type": "markdown",
   "id": "0d15d274-91e2-40b1-8efe-20821a6eafe1",
   "metadata": {},
   "source": [
    "#### Train/Test split"
   ]
  },
  {
   "cell_type": "code",
   "execution_count": 364,
   "id": "c873a03b-1a6c-439f-8c79-7ed05fd7fcf9",
   "metadata": {},
   "outputs": [],
   "source": [
    "# Train Test Split\n",
    "TAKE_SIZE = int(0.7*data.shape[0])\n",
    "\n",
    "train_data = full_ds.take(TAKE_SIZE).shuffle(TAKE_SIZE)\n",
    "train_data = train_data.batch(64)\n",
    "\n",
    "test_data = full_ds.skip(TAKE_SIZE)\n",
    "test_data = test_data.batch(64)"
   ]
  },
  {
   "cell_type": "code",
   "execution_count": 365,
   "id": "ce597775-7ed5-42f3-ad4b-a7b26aba0caa",
   "metadata": {},
   "outputs": [
    {
     "name": "stdout",
     "output_type": "stream",
     "text": [
      "tf.Tensor(\n",
      "[[  13   24  174 ...    0    0    0]\n",
      " [  11 1653   11 ...    0    0    0]\n",
      " [   6   10 1441 ...    0    0    0]\n",
      " ...\n",
      " [   2  882  324 ...    0    0    0]\n",
      " [  86  771 1287 ...    0    0    0]\n",
      " [  30  397   30 ...    0    0    0]], shape=(64, 18), dtype=int32) tf.Tensor(\n",
      "[1 0 1 0 1 1 0 0 0 1 1 0 0 0 0 1 0 0 0 0 0 0 1 0 0 1 1 0 1 0 1 1 0 0 0 1 0\n",
      " 0 0 0 1 0 0 0 1 1 1 1 0 1 0 1 0 1 0 0 1 0 1 0 0 0 0 0], shape=(64,), dtype=int64)\n"
     ]
    }
   ],
   "source": [
    " # Regardons un batch \n",
    "for tweet, target in train_data.take(1):\n",
    "  print(tweet, target)"
   ]
  },
  {
   "cell_type": "markdown",
   "id": "b0b2542e-73bc-4fea-a39d-f483511df3bb",
   "metadata": {},
   "source": [
    "## Model 1 : With word embbeding"
   ]
  },
  {
   "cell_type": "code",
   "execution_count": 366,
   "id": "e5e79bd2-8920-4bfb-b654-b0ffa1aea689",
   "metadata": {},
   "outputs": [],
   "source": [
    "vocab_size = 2000\n",
    "model = tf.keras.Sequential([\n",
    "                  # Couche d'Input Word Embedding           \n",
    "                  tf.keras.layers.Embedding(vocab_size+1, 16, input_shape=[tweet.shape[1],],name=\"embedding\"),\n",
    "                  # Gobal average pooling\n",
    "                  tf.keras.layers.GlobalAveragePooling1D(),\n",
    "\n",
    "                  # Couche Dense classique\n",
    "                  tf.keras.layers.Dense(16, activation='relu'),\n",
    "                  tf.keras.layers.Dense(8, activation='relu'),\n",
    "\n",
    "                  # Couche de sortie avec le nombre de neurones en sortie égale au nombre de classe avec fonction softmax\n",
    "                  tf.keras.layers.Dense(1, activation=\"sigmoid\")\n",
    "])"
   ]
  },
  {
   "cell_type": "code",
   "execution_count": 367,
   "id": "a1225562-c009-4232-91f0-355099e02c17",
   "metadata": {},
   "outputs": [
    {
     "name": "stdout",
     "output_type": "stream",
     "text": [
      "Model: \"sequential_36\"\n",
      "_________________________________________________________________\n",
      " Layer (type)                Output Shape              Param #   \n",
      "=================================================================\n",
      " embedding (Embedding)       (None, 18, 16)            32016     \n",
      "                                                                 \n",
      " global_average_pooling1d_10  (None, 16)               0         \n",
      "  (GlobalAveragePooling1D)                                       \n",
      "                                                                 \n",
      " dense_82 (Dense)            (None, 16)                272       \n",
      "                                                                 \n",
      " dense_83 (Dense)            (None, 8)                 136       \n",
      "                                                                 \n",
      " dense_84 (Dense)            (None, 1)                 9         \n",
      "                                                                 \n",
      "=================================================================\n",
      "Total params: 32,433\n",
      "Trainable params: 32,433\n",
      "Non-trainable params: 0\n",
      "_________________________________________________________________\n"
     ]
    }
   ],
   "source": [
    "model.summary()"
   ]
  },
  {
   "cell_type": "code",
   "execution_count": 368,
   "id": "33dae511-4a20-456d-9095-7249f1242424",
   "metadata": {},
   "outputs": [],
   "source": [
    "optimizer= tf.keras.optimizers.Adam(0.0002)\n",
    "\n",
    "model.compile(optimizer=optimizer,\n",
    "              loss=tf.keras.losses.BinaryCrossentropy(),\n",
    "              metrics=['accuracy'])"
   ]
  },
  {
   "cell_type": "code",
   "execution_count": 369,
   "id": "85801033-2ed9-4312-9d34-ae286d66fd9b",
   "metadata": {},
   "outputs": [
    {
     "name": "stdout",
     "output_type": "stream",
     "text": [
      "Epoch 1/20\n",
      "82/82 [==============================] - 1s 5ms/step - loss: 0.6910 - accuracy: 0.5718 - val_loss: 0.6902 - val_accuracy: 0.5539\n",
      "Epoch 2/20\n",
      "82/82 [==============================] - 0s 3ms/step - loss: 0.6879 - accuracy: 0.5722 - val_loss: 0.6875 - val_accuracy: 0.5539\n",
      "Epoch 3/20\n",
      "82/82 [==============================] - 0s 3ms/step - loss: 0.6835 - accuracy: 0.5724 - val_loss: 0.6839 - val_accuracy: 0.5539\n",
      "Epoch 4/20\n",
      "82/82 [==============================] - 0s 3ms/step - loss: 0.6770 - accuracy: 0.5735 - val_loss: 0.6776 - val_accuracy: 0.5548\n",
      "Epoch 5/20\n",
      "82/82 [==============================] - 0s 3ms/step - loss: 0.6639 - accuracy: 0.5893 - val_loss: 0.6673 - val_accuracy: 0.5686\n",
      "Epoch 6/20\n",
      "82/82 [==============================] - 0s 3ms/step - loss: 0.6468 - accuracy: 0.6195 - val_loss: 0.6556 - val_accuracy: 0.5890\n",
      "Epoch 7/20\n",
      "82/82 [==============================] - 0s 3ms/step - loss: 0.6263 - accuracy: 0.6630 - val_loss: 0.6415 - val_accuracy: 0.6336\n",
      "Epoch 8/20\n",
      "82/82 [==============================] - 0s 3ms/step - loss: 0.6030 - accuracy: 0.6970 - val_loss: 0.6259 - val_accuracy: 0.6790\n",
      "Epoch 9/20\n",
      "82/82 [==============================] - 0s 3ms/step - loss: 0.5772 - accuracy: 0.7352 - val_loss: 0.6090 - val_accuracy: 0.7093\n",
      "Epoch 10/20\n",
      "82/82 [==============================] - 0s 3ms/step - loss: 0.5505 - accuracy: 0.7667 - val_loss: 0.5914 - val_accuracy: 0.7320\n",
      "Epoch 11/20\n",
      "82/82 [==============================] - 0s 3ms/step - loss: 0.5241 - accuracy: 0.7896 - val_loss: 0.5751 - val_accuracy: 0.7440\n",
      "Epoch 12/20\n",
      "82/82 [==============================] - 0s 3ms/step - loss: 0.4991 - accuracy: 0.8085 - val_loss: 0.5591 - val_accuracy: 0.7498\n",
      "Epoch 13/20\n",
      "82/82 [==============================] - 0s 3ms/step - loss: 0.4758 - accuracy: 0.8179 - val_loss: 0.5452 - val_accuracy: 0.7511\n",
      "Epoch 14/20\n",
      "82/82 [==============================] - 0s 4ms/step - loss: 0.4555 - accuracy: 0.8232 - val_loss: 0.5344 - val_accuracy: 0.7649\n",
      "Epoch 15/20\n",
      "82/82 [==============================] - 0s 3ms/step - loss: 0.4378 - accuracy: 0.8289 - val_loss: 0.5239 - val_accuracy: 0.7640\n",
      "Epoch 16/20\n",
      "82/82 [==============================] - 0s 3ms/step - loss: 0.4227 - accuracy: 0.8343 - val_loss: 0.5158 - val_accuracy: 0.7618\n",
      "Epoch 17/20\n",
      "82/82 [==============================] - 0s 3ms/step - loss: 0.4096 - accuracy: 0.8368 - val_loss: 0.5095 - val_accuracy: 0.7618\n",
      "Epoch 18/20\n",
      "82/82 [==============================] - 0s 3ms/step - loss: 0.3986 - accuracy: 0.8396 - val_loss: 0.5042 - val_accuracy: 0.7645\n",
      "Epoch 19/20\n",
      "82/82 [==============================] - 0s 3ms/step - loss: 0.3893 - accuracy: 0.8425 - val_loss: 0.5008 - val_accuracy: 0.7694\n",
      "Epoch 20/20\n",
      "82/82 [==============================] - 0s 3ms/step - loss: 0.3807 - accuracy: 0.8438 - val_loss: 0.4989 - val_accuracy: 0.7689\n"
     ]
    }
   ],
   "source": [
    "# Entrainement du modèle \n",
    "history = model.fit(train_data, \n",
    "                    epochs=20, \n",
    "                    validation_data=test_data)"
   ]
  },
  {
   "cell_type": "markdown",
   "id": "813fe3ab-c704-4294-b85f-0ca611a93cff",
   "metadata": {},
   "source": [
    "##"
   ]
  },
  {
   "cell_type": "markdown",
   "id": "f5b4b63c-87cb-4aa4-855c-2c31d0bf28c7",
   "metadata": {},
   "source": [
    "### Evaluation Model 1"
   ]
  },
  {
   "cell_type": "code",
   "execution_count": 370,
   "id": "17dbb4a7-293c-4595-a334-5ce5390058dc",
   "metadata": {},
   "outputs": [
    {
     "data": {
      "image/png": "[encoded data removed]",
      "text/plain": [
       "<Figure size 432x288 with 1 Axes>"
      ]
     },
     "metadata": {
      "needs_background": "light"
     },
     "output_type": "display_data"
    }
   ],
   "source": [
    "import matplotlib.pyplot as plt\n",
    "\n",
    "# Visualization of the training process on the loss function \n",
    "plt.plot(history.history[\"loss\"], color=\"b\")\n",
    "plt.plot(history.history[\"val_loss\"], color=\"r\")\n",
    "plt.ylabel(\"loss\")\n",
    "plt.xlabel(\"Epochs\")\n",
    "plt.show()"
   ]
  },
  {
   "cell_type": "code",
   "execution_count": 371,
   "id": "b95c174e-8018-4e4c-9f0f-d33c33034801",
   "metadata": {},
   "outputs": [
    {
     "data": {
      "image/png": "[encoded data removed]",
      "text/plain": [
       "<Figure size 432x288 with 1 Axes>"
      ]
     },
     "metadata": {
      "needs_background": "light"
     },
     "output_type": "display_data"
    }
   ],
   "source": [
    "# Visualization of accuracy training \n",
    "plt.plot(history.history[\"accuracy\"], color=\"b\")\n",
    "plt.plot(history.history[\"val_accuracy\"], color=\"r\")\n",
    "plt.ylabel(\"accuracy\")\n",
    "plt.xlabel(\"Epochs\")\n",
    "plt.show()"
   ]
  },
  {
   "cell_type": "markdown",
   "id": "843dbd00-0c35-4519-8b81-3abccccc1d68",
   "metadata": {},
   "source": [
    "## Model 2 : with RNN"
   ]
  },
  {
   "cell_type": "code",
   "execution_count": 372,
   "id": "0efb2c13-2570-4292-8656-6a41fe24072d",
   "metadata": {},
   "outputs": [],
   "source": [
    "vocab_size = 2000\n",
    "embedding_dim=16 # the dimensionality of the representation space\n",
    "\n",
    "model_rnn = Sequential([\n",
    "  Embedding(vocab_size+1, embedding_dim, input_shape=[tweet.shape[1],], name=\"embedding\"), # the embedding layer\n",
    "  # the input dim needs to be equal to the size of the vocabulary + 1 (because of\n",
    "  # the zero padding)\n",
    "  SimpleRNN(units=64, return_sequences=True, kernel_regularizer = \"l1\"), # maintains the sequential nature\n",
    "  SimpleRNN(units=32, return_sequences=False), # returns the last output\n",
    "  Dense(16, activation='relu'), # a dense layer\n",
    "  Dense(1, activation=\"sigmoid\") # the prediction layer\n",
    "])"
   ]
  },
  {
   "cell_type": "code",
   "execution_count": 373,
   "id": "dd8e3a3d-62b0-40b1-92be-2ea235196ec7",
   "metadata": {},
   "outputs": [
    {
     "name": "stdout",
     "output_type": "stream",
     "text": [
      "Model: \"sequential_37\"\n",
      "_________________________________________________________________\n",
      " Layer (type)                Output Shape              Param #   \n",
      "=================================================================\n",
      " embedding (Embedding)       (None, 18, 16)            32016     \n",
      "                                                                 \n",
      " simple_rnn_20 (SimpleRNN)   (None, 18, 64)            5184      \n",
      "                                                                 \n",
      " simple_rnn_21 (SimpleRNN)   (None, 32)                3104      \n",
      "                                                                 \n",
      " dense_85 (Dense)            (None, 16)                528       \n",
      "                                                                 \n",
      " dense_86 (Dense)            (None, 1)                 17        \n",
      "                                                                 \n",
      "=================================================================\n",
      "Total params: 40,849\n",
      "Trainable params: 40,849\n",
      "Non-trainable params: 0\n",
      "_________________________________________________________________\n"
     ]
    }
   ],
   "source": [
    "model_rnn.summary()"
   ]
  },
  {
   "cell_type": "code",
   "execution_count": 374,
   "id": "edf678f8-a87a-4c14-8ac7-c2bbb32d7a0a",
   "metadata": {},
   "outputs": [],
   "source": [
    "model_rnn.compile(optimizer=tf.keras.optimizers.Adam(0.0001),\n",
    "              loss=tf.keras.losses.BinaryCrossentropy(),\n",
    "              metrics=['accuracy'])\n"
   ]
  },
  {
   "cell_type": "code",
   "execution_count": 375,
   "id": "07e9b65b-4c6f-42c7-8fe1-978644fd99e3",
   "metadata": {},
   "outputs": [
    {
     "name": "stdout",
     "output_type": "stream",
     "text": [
      "Epoch 1/10\n",
      "82/82 [==============================] - 3s 19ms/step - loss: 2.0260 - accuracy: 0.5533 - val_loss: 1.9800 - val_accuracy: 0.5650\n",
      "Epoch 2/10\n",
      "82/82 [==============================] - 1s 15ms/step - loss: 1.9082 - accuracy: 0.6333 - val_loss: 1.8716 - val_accuracy: 0.6331\n",
      "Epoch 3/10\n",
      "82/82 [==============================] - 1s 14ms/step - loss: 1.7781 - accuracy: 0.7064 - val_loss: 1.7840 - val_accuracy: 0.6416\n",
      "Epoch 4/10\n",
      "82/82 [==============================] - 1s 15ms/step - loss: 1.6422 - accuracy: 0.7606 - val_loss: 1.7074 - val_accuracy: 0.6652\n",
      "Epoch 5/10\n",
      "82/82 [==============================] - 1s 15ms/step - loss: 1.5280 - accuracy: 0.7936 - val_loss: 1.6346 - val_accuracy: 0.6817\n",
      "Epoch 6/10\n",
      "82/82 [==============================] - 1s 14ms/step - loss: 1.4278 - accuracy: 0.8194 - val_loss: 1.5879 - val_accuracy: 0.6874\n",
      "Epoch 7/10\n",
      "82/82 [==============================] - 1s 16ms/step - loss: 1.3409 - accuracy: 0.8372 - val_loss: 1.5430 - val_accuracy: 0.6888\n",
      "Epoch 8/10\n",
      "82/82 [==============================] - 1s 15ms/step - loss: 1.2587 - accuracy: 0.8513 - val_loss: 1.5305 - val_accuracy: 0.6692\n",
      "Epoch 9/10\n",
      "82/82 [==============================] - 1s 14ms/step - loss: 1.1854 - accuracy: 0.8656 - val_loss: 1.5055 - val_accuracy: 0.6785\n",
      "Epoch 10/10\n",
      "82/82 [==============================] - 1s 14ms/step - loss: 1.1165 - accuracy: 0.8736 - val_loss: 1.4617 - val_accuracy: 0.6652\n"
     ]
    }
   ],
   "source": [
    "history_rnn = model_rnn.fit(\n",
    "    train_data,\n",
    "    validation_data=test_data,\n",
    "    epochs=10)"
   ]
  },
  {
   "cell_type": "markdown",
   "id": "3e4d1318-b04c-4e81-9435-4f656e88dfcb",
   "metadata": {},
   "source": [
    "##"
   ]
  },
  {
   "cell_type": "markdown",
   "id": "0c2faa4d-c57b-47a3-97a8-e4fb630866a9",
   "metadata": {},
   "source": [
    "### evaluation Model 2"
   ]
  },
  {
   "cell_type": "code",
   "execution_count": 376,
   "id": "ae91f154-0252-4c1d-a95e-13783449dbb0",
   "metadata": {},
   "outputs": [
    {
     "data": {
      "image/png": "[encoded data removed]",
      "text/plain": [
       "<Figure size 432x288 with 1 Axes>"
      ]
     },
     "metadata": {
      "needs_background": "light"
     },
     "output_type": "display_data"
    }
   ],
   "source": [
    "import matplotlib.pyplot as plt\n",
    "\n",
    "# Visualization of the training process on the loss function \n",
    "plt.plot(history_rnn.history[\"loss\"], color=\"b\")\n",
    "plt.plot(history_rnn.history[\"val_loss\"], color=\"r\")\n",
    "plt.ylabel(\"loss\")\n",
    "plt.xlabel(\"Epochs\")\n",
    "plt.show()"
   ]
  },
  {
   "cell_type": "code",
   "execution_count": 377,
   "id": "388f4a04-9269-47a2-af36-fd8261ca696d",
   "metadata": {},
   "outputs": [
    {
     "data": {
      "image/png": "[encoded data removed]",
      "text/plain": [
       "<Figure size 432x288 with 1 Axes>"
      ]
     },
     "metadata": {
      "needs_background": "light"
     },
     "output_type": "display_data"
    }
   ],
   "source": [
    "# Visualization of accuracy training \n",
    "plt.plot(history_rnn.history[\"accuracy\"], color=\"b\")\n",
    "plt.plot(history_rnn.history[\"val_accuracy\"], color=\"r\")\n",
    "plt.ylabel(\"accuracy\")\n",
    "plt.xlabel(\"Epochs\")\n",
    "plt.show()"
   ]
  },
  {
   "cell_type": "markdown",
   "id": "044b29eb-1c3f-43f3-bab8-4ee1f81c16f2",
   "metadata": {},
   "source": [
    "## Model 3 : with LSTM"
   ]
  },
  {
   "cell_type": "code",
   "execution_count": 378,
   "id": "d5e9fa14-b5b0-4552-bad8-d0e01a39d835",
   "metadata": {},
   "outputs": [],
   "source": [
    "vocab_size = 2000\n",
    "embedding_dim=16 # the dimensionality of the representation space\n",
    "\n",
    "model_lstm = Sequential([\n",
    "  Embedding(vocab_size+1, embedding_dim, input_shape=[tweet.shape[1],], name=\"embedding\"), # the embedding layer\n",
    "  # the input dim needs to be equal to the size of the vocabulary + 1 (because of\n",
    "  # the zero padding)\n",
    "  tf.keras.layers.Bidirectional(LSTM(units=64, return_sequences=True)), # maintains the sequential nature\n",
    "  LSTM(units=32, return_sequences=False), # returns the last output\n",
    "  Dense(16, activation='relu'), # a dense layer\n",
    "  Dense(1, activation=\"sigmoid\") # the prediction layer\n",
    "])"
   ]
  },
  {
   "cell_type": "code",
   "execution_count": 379,
   "id": "d0b5fa37-0f2f-4381-a7d4-7664d1f2912f",
   "metadata": {},
   "outputs": [],
   "source": [
    "model_lstm.compile(optimizer=tf.keras.optimizers.Adam(0.00002),\n",
    "              loss=tf.keras.losses.BinaryCrossentropy(),\n",
    "              metrics=['accuracy'])"
   ]
  },
  {
   "cell_type": "code",
   "execution_count": 380,
   "id": "75ef3bac-1f6a-4efc-8743-7eb6cd8c8166",
   "metadata": {},
   "outputs": [
    {
     "name": "stdout",
     "output_type": "stream",
     "text": [
      "Model: \"sequential_38\"\n",
      "_________________________________________________________________\n",
      " Layer (type)                Output Shape              Param #   \n",
      "=================================================================\n",
      " embedding (Embedding)       (None, 18, 16)            32016     \n",
      "                                                                 \n",
      " bidirectional_11 (Bidirecti  (None, 18, 128)          41472     \n",
      " onal)                                                           \n",
      "                                                                 \n",
      " lstm_29 (LSTM)              (None, 32)                20608     \n",
      "                                                                 \n",
      " dense_87 (Dense)            (None, 16)                528       \n",
      "                                                                 \n",
      " dense_88 (Dense)            (None, 1)                 17        \n",
      "                                                                 \n",
      "=================================================================\n",
      "Total params: 94,641\n",
      "Trainable params: 94,641\n",
      "Non-trainable params: 0\n",
      "_________________________________________________________________\n"
     ]
    }
   ],
   "source": [
    "model_lstm.summary()"
   ]
  },
  {
   "cell_type": "code",
   "execution_count": 381,
   "id": "1a2d017c-23e8-4c20-b364-e6b06f608dd0",
   "metadata": {},
   "outputs": [
    {
     "name": "stdout",
     "output_type": "stream",
     "text": [
      "Epoch 1/20\n",
      "82/82 [==============================] - 10s 51ms/step - loss: 0.6920 - accuracy: 0.5722 - val_loss: 0.6915 - val_accuracy: 0.5539\n",
      "Epoch 2/20\n",
      "82/82 [==============================] - 3s 37ms/step - loss: 0.6903 - accuracy: 0.5722 - val_loss: 0.6902 - val_accuracy: 0.5539\n",
      "Epoch 3/20\n",
      "82/82 [==============================] - 3s 37ms/step - loss: 0.6885 - accuracy: 0.5722 - val_loss: 0.6887 - val_accuracy: 0.5539\n",
      "Epoch 4/20\n",
      "82/82 [==============================] - 3s 37ms/step - loss: 0.6863 - accuracy: 0.5722 - val_loss: 0.6868 - val_accuracy: 0.5539\n",
      "Epoch 5/20\n",
      "82/82 [==============================] - 3s 39ms/step - loss: 0.6834 - accuracy: 0.5722 - val_loss: 0.6844 - val_accuracy: 0.5539\n",
      "Epoch 6/20\n",
      "82/82 [==============================] - 3s 38ms/step - loss: 0.6800 - accuracy: 0.5722 - val_loss: 0.6821 - val_accuracy: 0.5539\n",
      "Epoch 7/20\n",
      "82/82 [==============================] - 3s 39ms/step - loss: 0.6764 - accuracy: 0.5722 - val_loss: 0.6798 - val_accuracy: 0.5539\n",
      "Epoch 8/20\n",
      "82/82 [==============================] - 3s 38ms/step - loss: 0.6720 - accuracy: 0.5722 - val_loss: 0.6763 - val_accuracy: 0.5539\n",
      "Epoch 9/20\n",
      "82/82 [==============================] - 3s 38ms/step - loss: 0.6640 - accuracy: 0.5722 - val_loss: 0.6686 - val_accuracy: 0.5539\n",
      "Epoch 10/20\n",
      "82/82 [==============================] - 3s 40ms/step - loss: 0.6453 - accuracy: 0.5745 - val_loss: 0.6501 - val_accuracy: 0.5606\n",
      "Epoch 11/20\n",
      "82/82 [==============================] - 3s 38ms/step - loss: 0.6103 - accuracy: 0.6277 - val_loss: 0.6275 - val_accuracy: 0.6420\n",
      "Epoch 12/20\n",
      "82/82 [==============================] - 3s 39ms/step - loss: 0.5763 - accuracy: 0.7266 - val_loss: 0.6136 - val_accuracy: 0.7182\n",
      "Epoch 13/20\n",
      "82/82 [==============================] - 3s 39ms/step - loss: 0.5530 - accuracy: 0.7696 - val_loss: 0.6050 - val_accuracy: 0.7284\n",
      "Epoch 14/20\n",
      "82/82 [==============================] - 3s 40ms/step - loss: 0.5343 - accuracy: 0.7879 - val_loss: 0.5967 - val_accuracy: 0.7306\n",
      "Epoch 15/20\n",
      "82/82 [==============================] - 3s 39ms/step - loss: 0.5162 - accuracy: 0.7969 - val_loss: 0.5876 - val_accuracy: 0.7329\n",
      "Epoch 16/20\n",
      "82/82 [==============================] - 3s 38ms/step - loss: 0.4964 - accuracy: 0.8009 - val_loss: 0.5778 - val_accuracy: 0.7235\n",
      "Epoch 17/20\n",
      "82/82 [==============================] - 3s 38ms/step - loss: 0.4774 - accuracy: 0.8053 - val_loss: 0.5716 - val_accuracy: 0.7124\n",
      "Epoch 18/20\n",
      "82/82 [==============================] - 3s 38ms/step - loss: 0.4631 - accuracy: 0.8099 - val_loss: 0.5640 - val_accuracy: 0.7222\n",
      "Epoch 19/20\n",
      "82/82 [==============================] - 3s 38ms/step - loss: 0.4515 - accuracy: 0.8116 - val_loss: 0.5627 - val_accuracy: 0.7329\n",
      "Epoch 20/20\n",
      "82/82 [==============================] - 3s 36ms/step - loss: 0.4437 - accuracy: 0.8177 - val_loss: 0.5584 - val_accuracy: 0.7235\n"
     ]
    }
   ],
   "source": [
    "history_lstm = model_lstm.fit(\n",
    "    train_data,\n",
    "    validation_data=test_data,\n",
    "    epochs=20)"
   ]
  },
  {
   "cell_type": "markdown",
   "id": "aa719c70-74de-4f27-b248-4f04326b3a35",
   "metadata": {
    "tags": []
   },
   "source": [
    "##"
   ]
  },
  {
   "cell_type": "markdown",
   "id": "843d3692-13d6-4358-a23a-aef91ca06a09",
   "metadata": {},
   "source": [
    "### evaluation Model 3"
   ]
  },
  {
   "cell_type": "code",
   "execution_count": 382,
   "id": "3a18a19a-3519-4afe-9a2f-e825a2529d41",
   "metadata": {},
   "outputs": [
    {
     "data": {
      "image/png": "[encoded data removed]",
      "text/plain": [
       "<Figure size 432x288 with 1 Axes>"
      ]
     },
     "metadata": {
      "needs_background": "light"
     },
     "output_type": "display_data"
    }
   ],
   "source": [
    "import matplotlib.pyplot as plt\n",
    "\n",
    "# Visualization of the training process on the loss function \n",
    "plt.plot(history_lstm.history[\"loss\"], color=\"b\")\n",
    "plt.plot(history_lstm.history[\"val_loss\"], color=\"r\")\n",
    "plt.ylabel(\"loss\")\n",
    "plt.xlabel(\"Epochs\")\n",
    "plt.show()"
   ]
  },
  {
   "cell_type": "code",
   "execution_count": 383,
   "id": "a3fbc96e-f74c-40d5-9fbe-dc617a242565",
   "metadata": {},
   "outputs": [
    {
     "data": {
      "image/png": "[encoded data removed]",
      "text/plain": [
       "<Figure size 432x288 with 1 Axes>"
      ]
     },
     "metadata": {
      "needs_background": "light"
     },
     "output_type": "display_data"
    }
   ],
   "source": [
    "# Visualization of accuracy training \n",
    "plt.plot(history_lstm.history[\"accuracy\"], color=\"b\")\n",
    "plt.plot(history_lstm.history[\"val_accuracy\"], color=\"r\")\n",
    "plt.ylabel(\"accuracy\")\n",
    "plt.xlabel(\"Epochs\")\n",
    "plt.show()"
   ]
  },
  {
   "cell_type": "markdown",
   "id": "051e4c16-c6cb-4723-8f45-dd7038dbfaec",
   "metadata": {},
   "source": [
    "##"
   ]
  },
  {
   "cell_type": "markdown",
   "id": "0555ddd0-3a08-4a9f-85d5-9a9dfd5bf177",
   "metadata": {},
   "source": [
    "## Conclusion"
   ]
  },
  {
   "cell_type": "markdown",
   "id": "daf706ee-38a9-4c62-9534-ae67c2584903",
   "metadata": {},
   "source": [
    "#### Model 1 : conclusions\n",
    "\n",
    "- Model 1 is the simpliest and it has relatively good performance after the preprocessings were tuned. Both loss and val loss decrease, it seems to not overfit, and the accuracy reaches about 0,75.\n",
    "- Performance was improved with setting low learning rate\n",
    "\n",
    "Analyse (below) of the texts shows that the worst predictions are linked with texts that are not easy to link to disasters as such, even for human intelligence."
   ]
  },
  {
   "cell_type": "markdown",
   "id": "574a6a84-5245-478b-b2ed-56ab566975c7",
   "metadata": {},
   "source": [
    "#### Model 2 : conclusions\n",
    "\n",
    "- Model 2 has simple RNN. The performance was never really good, it was overfitting very fast with default parameters. \n",
    "- I could limit overfitting with setting Ridge regularizer one the first RNN layer, and low learning rate.\n",
    "- But the performance is not the best, with higher loss and lesser acuracy than model 1 & 3."
   ]
  },
  {
   "cell_type": "markdown",
   "id": "a323ff4c-414f-420b-ad88-46bc2f0fe5d3",
   "metadata": {},
   "source": [
    "#### Model 3 : conclusions\n",
    "- Model 3 is the more complex with LSTM and is a slow learner\n",
    "- At first is was not performing very well and might overfit with default parameters.\n",
    "- I had to set the learning rate very low (0, 00002), and rise the number of epochs : it does not learn anything before epoch N°10.\n",
    "- Then after it has quick learning and reaches some good performance that could compare with model 1.\n",
    "- However, for it is complex and slow, Model 1 should be prefered."
   ]
  },
  {
   "cell_type": "markdown",
   "id": "a19ce666-86f1-4942-ab18-c17fb3ad8e48",
   "metadata": {},
   "source": [
    "#### Demo : worst predictions with Model 1, compared to initial text and target"
   ]
  },
  {
   "cell_type": "code",
   "execution_count": 400,
   "id": "e8ac4465-0750-4b0c-a141-82968b56d210",
   "metadata": {},
   "outputs": [
    {
     "data": {
      "text/html": [
       "<div>\n",
       "<style scoped>\n",
       "    .dataframe tbody tr th:only-of-type {\n",
       "        vertical-align: middle;\n",
       "    }\n",
       "\n",
       "    .dataframe tbody tr th {\n",
       "        vertical-align: top;\n",
       "    }\n",
       "\n",
       "    .dataframe thead th {\n",
       "        text-align: right;\n",
       "    }\n",
       "</style>\n",
       "<table border=\"1\" class=\"dataframe\">\n",
       "  <thead>\n",
       "    <tr style=\"text-align: right;\">\n",
       "      <th></th>\n",
       "      <th>index</th>\n",
       "      <th>pred</th>\n",
       "      <th>target</th>\n",
       "      <th>text</th>\n",
       "      <th>mae</th>\n",
       "    </tr>\n",
       "  </thead>\n",
       "  <tbody>\n",
       "    <tr>\n",
       "      <th>0</th>\n",
       "      <td>974</td>\n",
       "      <td>0.032584</td>\n",
       "      <td>1</td>\n",
       "      <td>?? New Ladies Shoulder Tote #Handbag Faux Leat...</td>\n",
       "      <td>0.967416</td>\n",
       "    </tr>\n",
       "    <tr>\n",
       "      <th>1</th>\n",
       "      <td>991</td>\n",
       "      <td>0.046318</td>\n",
       "      <td>1</td>\n",
       "      <td>@Yankees body bagging mfs</td>\n",
       "      <td>0.953682</td>\n",
       "    </tr>\n",
       "    <tr>\n",
       "      <th>2</th>\n",
       "      <td>789</td>\n",
       "      <td>0.047481</td>\n",
       "      <td>1</td>\n",
       "      <td>@todd_calfee so @mattburgener wanted to see th...</td>\n",
       "      <td>0.952519</td>\n",
       "    </tr>\n",
       "    <tr>\n",
       "      <th>3</th>\n",
       "      <td>1005</td>\n",
       "      <td>0.048036</td>\n",
       "      <td>1</td>\n",
       "      <td>'I did another one I did another one. You stil...</td>\n",
       "      <td>0.951964</td>\n",
       "    </tr>\n",
       "    <tr>\n",
       "      <th>4</th>\n",
       "      <td>753</td>\n",
       "      <td>0.048335</td>\n",
       "      <td>1</td>\n",
       "      <td>@BenKin97 @Mili_5499 remember when u were up l...</td>\n",
       "      <td>0.951665</td>\n",
       "    </tr>\n",
       "    <tr>\n",
       "      <th>5</th>\n",
       "      <td>2250</td>\n",
       "      <td>0.052167</td>\n",
       "      <td>1</td>\n",
       "      <td>Why are you deluged with low self-image? Take ...</td>\n",
       "      <td>0.947833</td>\n",
       "    </tr>\n",
       "    <tr>\n",
       "      <th>6</th>\n",
       "      <td>1908</td>\n",
       "      <td>0.052996</td>\n",
       "      <td>1</td>\n",
       "      <td>So many Youtube commenters saying the Dothraki...</td>\n",
       "      <td>0.947004</td>\n",
       "    </tr>\n",
       "    <tr>\n",
       "      <th>7</th>\n",
       "      <td>1853</td>\n",
       "      <td>0.053278</td>\n",
       "      <td>1</td>\n",
       "      <td>Ina Buted Girl Crush??</td>\n",
       "      <td>0.946722</td>\n",
       "    </tr>\n",
       "    <tr>\n",
       "      <th>8</th>\n",
       "      <td>1014</td>\n",
       "      <td>0.053587</td>\n",
       "      <td>1</td>\n",
       "      <td>ÛÏ@MacDaddy_Leo: ?????? No Caption Needed ??....</td>\n",
       "      <td>0.946413</td>\n",
       "    </tr>\n",
       "    <tr>\n",
       "      <th>9</th>\n",
       "      <td>4917</td>\n",
       "      <td>0.056474</td>\n",
       "      <td>1</td>\n",
       "      <td>I liked a @YouTube video from @itsjustinstuart...</td>\n",
       "      <td>0.943526</td>\n",
       "    </tr>\n",
       "    <tr>\n",
       "      <th>10</th>\n",
       "      <td>649</td>\n",
       "      <td>0.057905</td>\n",
       "      <td>1</td>\n",
       "      <td>Love living on my own. I can blaze inside my a...</td>\n",
       "      <td>0.942095</td>\n",
       "    </tr>\n",
       "    <tr>\n",
       "      <th>11</th>\n",
       "      <td>5411</td>\n",
       "      <td>0.060103</td>\n",
       "      <td>1</td>\n",
       "      <td>all that panicking made me tired ;__; i want t...</td>\n",
       "      <td>0.939897</td>\n",
       "    </tr>\n",
       "    <tr>\n",
       "      <th>12</th>\n",
       "      <td>4143</td>\n",
       "      <td>0.061708</td>\n",
       "      <td>1</td>\n",
       "      <td>@leedsrouge Love what you picked! We're playin...</td>\n",
       "      <td>0.938292</td>\n",
       "    </tr>\n",
       "    <tr>\n",
       "      <th>13</th>\n",
       "      <td>4154</td>\n",
       "      <td>0.062224</td>\n",
       "      <td>1</td>\n",
       "      <td>You can never escape me. Bullets don't harm me...</td>\n",
       "      <td>0.937776</td>\n",
       "    </tr>\n",
       "    <tr>\n",
       "      <th>14</th>\n",
       "      <td>4661</td>\n",
       "      <td>0.066058</td>\n",
       "      <td>1</td>\n",
       "      <td>@LEDofficial1 As you can imagine we're inundat...</td>\n",
       "      <td>0.933942</td>\n",
       "    </tr>\n",
       "    <tr>\n",
       "      <th>15</th>\n",
       "      <td>6913</td>\n",
       "      <td>0.066497</td>\n",
       "      <td>1</td>\n",
       "      <td>@lucysforsale funny cause my dumb ass was the ...</td>\n",
       "      <td>0.933503</td>\n",
       "    </tr>\n",
       "    <tr>\n",
       "      <th>16</th>\n",
       "      <td>894</td>\n",
       "      <td>0.067741</td>\n",
       "      <td>1</td>\n",
       "      <td>@TradCatKnight (1) Russia may have played into...</td>\n",
       "      <td>0.932259</td>\n",
       "    </tr>\n",
       "    <tr>\n",
       "      <th>17</th>\n",
       "      <td>6047</td>\n",
       "      <td>0.068475</td>\n",
       "      <td>1</td>\n",
       "      <td>MRW when a sinkhole opens up beneath my friend...</td>\n",
       "      <td>0.931525</td>\n",
       "    </tr>\n",
       "    <tr>\n",
       "      <th>18</th>\n",
       "      <td>6160</td>\n",
       "      <td>0.068985</td>\n",
       "      <td>1</td>\n",
       "      <td>@SoonerMagic_ I mean I'm a fan but I don't nee...</td>\n",
       "      <td>0.931015</td>\n",
       "    </tr>\n",
       "    <tr>\n",
       "      <th>19</th>\n",
       "      <td>4320</td>\n",
       "      <td>0.071455</td>\n",
       "      <td>1</td>\n",
       "      <td>Hellfire! We donÛªt even want to think about ...</td>\n",
       "      <td>0.928545</td>\n",
       "    </tr>\n",
       "    <tr>\n",
       "      <th>20</th>\n",
       "      <td>2040</td>\n",
       "      <td>0.071486</td>\n",
       "      <td>1</td>\n",
       "      <td>@bluebirddenver #FETTILOOTCH IS #SLANGLUCCI OP...</td>\n",
       "      <td>0.928514</td>\n",
       "    </tr>\n",
       "    <tr>\n",
       "      <th>21</th>\n",
       "      <td>6923</td>\n",
       "      <td>0.071530</td>\n",
       "      <td>1</td>\n",
       "      <td>OH MY GOD RYANS IN TROUBLE http://t.co/ADIp0UnXHU</td>\n",
       "      <td>0.928470</td>\n",
       "    </tr>\n",
       "    <tr>\n",
       "      <th>22</th>\n",
       "      <td>6108</td>\n",
       "      <td>0.077171</td>\n",
       "      <td>1</td>\n",
       "      <td>Do you feel like you are sinking in low self-i...</td>\n",
       "      <td>0.922829</td>\n",
       "    </tr>\n",
       "    <tr>\n",
       "      <th>23</th>\n",
       "      <td>1906</td>\n",
       "      <td>0.078676</td>\n",
       "      <td>1</td>\n",
       "      <td>Holy moly that was crushed.</td>\n",
       "      <td>0.921324</td>\n",
       "    </tr>\n",
       "    <tr>\n",
       "      <th>24</th>\n",
       "      <td>4311</td>\n",
       "      <td>0.078703</td>\n",
       "      <td>1</td>\n",
       "      <td>@gg_keeponrockin @StrawberrySoryu Oh okay I ju...</td>\n",
       "      <td>0.921297</td>\n",
       "    </tr>\n",
       "    <tr>\n",
       "      <th>25</th>\n",
       "      <td>4732</td>\n",
       "      <td>0.078873</td>\n",
       "      <td>1</td>\n",
       "      <td>Check out my Lava lamp dude ???? http://t.co/T...</td>\n",
       "      <td>0.921127</td>\n",
       "    </tr>\n",
       "    <tr>\n",
       "      <th>26</th>\n",
       "      <td>949</td>\n",
       "      <td>0.079496</td>\n",
       "      <td>1</td>\n",
       "      <td>@HopefulBatgirl went down I was beaten and blo...</td>\n",
       "      <td>0.920504</td>\n",
       "    </tr>\n",
       "    <tr>\n",
       "      <th>27</th>\n",
       "      <td>728</td>\n",
       "      <td>0.080496</td>\n",
       "      <td>1</td>\n",
       "      <td>I waited 2.5 hours to get a cab my feet are bl...</td>\n",
       "      <td>0.919504</td>\n",
       "    </tr>\n",
       "    <tr>\n",
       "      <th>28</th>\n",
       "      <td>3711</td>\n",
       "      <td>0.080951</td>\n",
       "      <td>1</td>\n",
       "      <td>The Opposite of Love is Fear HereÛªs Why\\nhtt...</td>\n",
       "      <td>0.919049</td>\n",
       "    </tr>\n",
       "    <tr>\n",
       "      <th>29</th>\n",
       "      <td>6997</td>\n",
       "      <td>0.083823</td>\n",
       "      <td>1</td>\n",
       "      <td>Crazy Mom Threw Teen Daughter a NUDE Twister S...</td>\n",
       "      <td>0.916177</td>\n",
       "    </tr>\n",
       "    <tr>\n",
       "      <th>30</th>\n",
       "      <td>1565</td>\n",
       "      <td>0.084072</td>\n",
       "      <td>1</td>\n",
       "      <td>2Leezy its like you're about to fall down a cl...</td>\n",
       "      <td>0.915928</td>\n",
       "    </tr>\n",
       "    <tr>\n",
       "      <th>31</th>\n",
       "      <td>4305</td>\n",
       "      <td>0.084396</td>\n",
       "      <td>1</td>\n",
       "      <td>Hellfire is surrounded by desires so be carefu...</td>\n",
       "      <td>0.915604</td>\n",
       "    </tr>\n",
       "    <tr>\n",
       "      <th>32</th>\n",
       "      <td>6798</td>\n",
       "      <td>0.086571</td>\n",
       "      <td>1</td>\n",
       "      <td>@itss_selenaluna like a beautiful ass tragedy lol</td>\n",
       "      <td>0.913429</td>\n",
       "    </tr>\n",
       "    <tr>\n",
       "      <th>33</th>\n",
       "      <td>6252</td>\n",
       "      <td>0.086631</td>\n",
       "      <td>1</td>\n",
       "      <td>I liked a @YouTube video http://t.co/z8Cp77lVz...</td>\n",
       "      <td>0.913369</td>\n",
       "    </tr>\n",
       "    <tr>\n",
       "      <th>34</th>\n",
       "      <td>2260</td>\n",
       "      <td>0.087416</td>\n",
       "      <td>1</td>\n",
       "      <td>Businesses are deluged with invoices. Make you...</td>\n",
       "      <td>0.912584</td>\n",
       "    </tr>\n",
       "    <tr>\n",
       "      <th>35</th>\n",
       "      <td>6013</td>\n",
       "      <td>0.087516</td>\n",
       "      <td>1</td>\n",
       "      <td>The little girl next to me sees the spot light...</td>\n",
       "      <td>0.912484</td>\n",
       "    </tr>\n",
       "    <tr>\n",
       "      <th>36</th>\n",
       "      <td>3913</td>\n",
       "      <td>0.088596</td>\n",
       "      <td>1</td>\n",
       "      <td>Spot Flood Combo 53inch 300W Curved Cree LED W...</td>\n",
       "      <td>0.911404</td>\n",
       "    </tr>\n",
       "    <tr>\n",
       "      <th>37</th>\n",
       "      <td>3409</td>\n",
       "      <td>0.089759</td>\n",
       "      <td>1</td>\n",
       "      <td>Is he about to crash?\\nDid the Queen die?\\nDid...</td>\n",
       "      <td>0.910241</td>\n",
       "    </tr>\n",
       "    <tr>\n",
       "      <th>38</th>\n",
       "      <td>733</td>\n",
       "      <td>0.089910</td>\n",
       "      <td>1</td>\n",
       "      <td>@KatRamsland Yes I'm a bleeding heart liberal.</td>\n",
       "      <td>0.910090</td>\n",
       "    </tr>\n",
       "    <tr>\n",
       "      <th>39</th>\n",
       "      <td>6243</td>\n",
       "      <td>0.092216</td>\n",
       "      <td>1</td>\n",
       "      <td>ÛÏ@LordBrathwaite: Everyone Here: Ahh I hate ...</td>\n",
       "      <td>0.907784</td>\n",
       "    </tr>\n",
       "    <tr>\n",
       "      <th>40</th>\n",
       "      <td>6292</td>\n",
       "      <td>0.097364</td>\n",
       "      <td>1</td>\n",
       "      <td>TodayÛªs storm will pass; let tomorrowÛªs li...</td>\n",
       "      <td>0.902636</td>\n",
       "    </tr>\n",
       "    <tr>\n",
       "      <th>41</th>\n",
       "      <td>5786</td>\n",
       "      <td>0.097453</td>\n",
       "      <td>1</td>\n",
       "      <td>Leeds fan.... rioting in Embra at a lower tier...</td>\n",
       "      <td>0.902547</td>\n",
       "    </tr>\n",
       "    <tr>\n",
       "      <th>42</th>\n",
       "      <td>5200</td>\n",
       "      <td>0.098851</td>\n",
       "      <td>1</td>\n",
       "      <td>WACKOS like #MicheleBachman predict the WORLD ...</td>\n",
       "      <td>0.901149</td>\n",
       "    </tr>\n",
       "    <tr>\n",
       "      <th>43</th>\n",
       "      <td>6317</td>\n",
       "      <td>0.099930</td>\n",
       "      <td>1</td>\n",
       "      <td>Keep shape your shoes ??#Amazon #foot #adjust ...</td>\n",
       "      <td>0.900070</td>\n",
       "    </tr>\n",
       "    <tr>\n",
       "      <th>44</th>\n",
       "      <td>358</td>\n",
       "      <td>0.100674</td>\n",
       "      <td>1</td>\n",
       "      <td>One Direction Is my pick for http://t.co/q2eBl...</td>\n",
       "      <td>0.899326</td>\n",
       "    </tr>\n",
       "    <tr>\n",
       "      <th>45</th>\n",
       "      <td>6005</td>\n",
       "      <td>0.100723</td>\n",
       "      <td>1</td>\n",
       "      <td>@OllyMursAus I do feel sorry for him! He is no...</td>\n",
       "      <td>0.899277</td>\n",
       "    </tr>\n",
       "    <tr>\n",
       "      <th>46</th>\n",
       "      <td>556</td>\n",
       "      <td>0.103164</td>\n",
       "      <td>1</td>\n",
       "      <td>Black Eye 9: A space battle occurred at Star M...</td>\n",
       "      <td>0.896836</td>\n",
       "    </tr>\n",
       "    <tr>\n",
       "      <th>47</th>\n",
       "      <td>1873</td>\n",
       "      <td>0.104194</td>\n",
       "      <td>1</td>\n",
       "      <td>sevenfigz has a crush: http://t.co/20B3PnQxMD</td>\n",
       "      <td>0.895806</td>\n",
       "    </tr>\n",
       "    <tr>\n",
       "      <th>48</th>\n",
       "      <td>2222</td>\n",
       "      <td>0.104697</td>\n",
       "      <td>1</td>\n",
       "      <td>Perhaps 'historic' should be applied not to th...</td>\n",
       "      <td>0.895303</td>\n",
       "    </tr>\n",
       "    <tr>\n",
       "      <th>49</th>\n",
       "      <td>1310</td>\n",
       "      <td>0.105299</td>\n",
       "      <td>1</td>\n",
       "      <td>We will be burning up like neon lights??????</td>\n",
       "      <td>0.894701</td>\n",
       "    </tr>\n",
       "  </tbody>\n",
       "</table>\n",
       "</div>"
      ],
      "text/plain": [
       "    index      pred  target  \\\n",
       "0     974  0.032584       1   \n",
       "1     991  0.046318       1   \n",
       "2     789  0.047481       1   \n",
       "3    1005  0.048036       1   \n",
       "4     753  0.048335       1   \n",
       "5    2250  0.052167       1   \n",
       "6    1908  0.052996       1   \n",
       "7    1853  0.053278       1   \n",
       "8    1014  0.053587       1   \n",
       "9    4917  0.056474       1   \n",
       "10    649  0.057905       1   \n",
       "11   5411  0.060103       1   \n",
       "12   4143  0.061708       1   \n",
       "13   4154  0.062224       1   \n",
       "14   4661  0.066058       1   \n",
       "15   6913  0.066497       1   \n",
       "16    894  0.067741       1   \n",
       "17   6047  0.068475       1   \n",
       "18   6160  0.068985       1   \n",
       "19   4320  0.071455       1   \n",
       "20   2040  0.071486       1   \n",
       "21   6923  0.071530       1   \n",
       "22   6108  0.077171       1   \n",
       "23   1906  0.078676       1   \n",
       "24   4311  0.078703       1   \n",
       "25   4732  0.078873       1   \n",
       "26    949  0.079496       1   \n",
       "27    728  0.080496       1   \n",
       "28   3711  0.080951       1   \n",
       "29   6997  0.083823       1   \n",
       "30   1565  0.084072       1   \n",
       "31   4305  0.084396       1   \n",
       "32   6798  0.086571       1   \n",
       "33   6252  0.086631       1   \n",
       "34   2260  0.087416       1   \n",
       "35   6013  0.087516       1   \n",
       "36   3913  0.088596       1   \n",
       "37   3409  0.089759       1   \n",
       "38    733  0.089910       1   \n",
       "39   6243  0.092216       1   \n",
       "40   6292  0.097364       1   \n",
       "41   5786  0.097453       1   \n",
       "42   5200  0.098851       1   \n",
       "43   6317  0.099930       1   \n",
       "44    358  0.100674       1   \n",
       "45   6005  0.100723       1   \n",
       "46    556  0.103164       1   \n",
       "47   1873  0.104194       1   \n",
       "48   2222  0.104697       1   \n",
       "49   1310  0.105299       1   \n",
       "\n",
       "                                                 text       mae  \n",
       "0   ?? New Ladies Shoulder Tote #Handbag Faux Leat...  0.967416  \n",
       "1                           @Yankees body bagging mfs  0.953682  \n",
       "2   @todd_calfee so @mattburgener wanted to see th...  0.952519  \n",
       "3   'I did another one I did another one. You stil...  0.951964  \n",
       "4   @BenKin97 @Mili_5499 remember when u were up l...  0.951665  \n",
       "5   Why are you deluged with low self-image? Take ...  0.947833  \n",
       "6   So many Youtube commenters saying the Dothraki...  0.947004  \n",
       "7                              Ina Buted Girl Crush??  0.946722  \n",
       "8   ÛÏ@MacDaddy_Leo: ?????? No Caption Needed ??....  0.946413  \n",
       "9   I liked a @YouTube video from @itsjustinstuart...  0.943526  \n",
       "10  Love living on my own. I can blaze inside my a...  0.942095  \n",
       "11  all that panicking made me tired ;__; i want t...  0.939897  \n",
       "12  @leedsrouge Love what you picked! We're playin...  0.938292  \n",
       "13  You can never escape me. Bullets don't harm me...  0.937776  \n",
       "14  @LEDofficial1 As you can imagine we're inundat...  0.933942  \n",
       "15  @lucysforsale funny cause my dumb ass was the ...  0.933503  \n",
       "16  @TradCatKnight (1) Russia may have played into...  0.932259  \n",
       "17  MRW when a sinkhole opens up beneath my friend...  0.931525  \n",
       "18  @SoonerMagic_ I mean I'm a fan but I don't nee...  0.931015  \n",
       "19  Hellfire! We donÛªt even want to think about ...  0.928545  \n",
       "20  @bluebirddenver #FETTILOOTCH IS #SLANGLUCCI OP...  0.928514  \n",
       "21  OH MY GOD RYANS IN TROUBLE http://t.co/ADIp0UnXHU  0.928470  \n",
       "22  Do you feel like you are sinking in low self-i...  0.922829  \n",
       "23                        Holy moly that was crushed.  0.921324  \n",
       "24  @gg_keeponrockin @StrawberrySoryu Oh okay I ju...  0.921297  \n",
       "25  Check out my Lava lamp dude ???? http://t.co/T...  0.921127  \n",
       "26  @HopefulBatgirl went down I was beaten and blo...  0.920504  \n",
       "27  I waited 2.5 hours to get a cab my feet are bl...  0.919504  \n",
       "28  The Opposite of Love is Fear HereÛªs Why\\nhtt...  0.919049  \n",
       "29  Crazy Mom Threw Teen Daughter a NUDE Twister S...  0.916177  \n",
       "30  2Leezy its like you're about to fall down a cl...  0.915928  \n",
       "31  Hellfire is surrounded by desires so be carefu...  0.915604  \n",
       "32  @itss_selenaluna like a beautiful ass tragedy lol  0.913429  \n",
       "33  I liked a @YouTube video http://t.co/z8Cp77lVz...  0.913369  \n",
       "34  Businesses are deluged with invoices. Make you...  0.912584  \n",
       "35  The little girl next to me sees the spot light...  0.912484  \n",
       "36  Spot Flood Combo 53inch 300W Curved Cree LED W...  0.911404  \n",
       "37  Is he about to crash?\\nDid the Queen die?\\nDid...  0.910241  \n",
       "38     @KatRamsland Yes I'm a bleeding heart liberal.  0.910090  \n",
       "39  ÛÏ@LordBrathwaite: Everyone Here: Ahh I hate ...  0.907784  \n",
       "40  TodayÛªs storm will pass; let tomorrowÛªs li...  0.902636  \n",
       "41  Leeds fan.... rioting in Embra at a lower tier...  0.902547  \n",
       "42  WACKOS like #MicheleBachman predict the WORLD ...  0.901149  \n",
       "43  Keep shape your shoes ??#Amazon #foot #adjust ...  0.900070  \n",
       "44  One Direction Is my pick for http://t.co/q2eBl...  0.899326  \n",
       "45  @OllyMursAus I do feel sorry for him! He is no...  0.899277  \n",
       "46  Black Eye 9: A space battle occurred at Star M...  0.896836  \n",
       "47      sevenfigz has a crush: http://t.co/20B3PnQxMD  0.895806  \n",
       "48  Perhaps 'historic' should be applied not to th...  0.895303  \n",
       "49       We will be burning up like neon lights??????  0.894701  "
      ]
     },
     "execution_count": 400,
     "metadata": {},
     "output_type": "execute_result"
    }
   ],
   "source": [
    "test_pred =model.predict(text_pad)\n",
    "df_eval = pd.DataFrame({\"pred\":test_pred.squeeze(), \"target\":target, \"text\":data.text})\n",
    "df_eval[\"mae\"] = np.abs(df_eval[\"target\"] - df_eval[\"pred\"])\n",
    "df_eval.sort_values(by= \"mae\" , ascending=False).reset_index().head(50)"
   ]
  },
  {
   "cell_type": "markdown",
   "id": "aa1356be-572e-478c-8508-4ba6ed30fb9d",
   "metadata": {},
   "source": [
    "## "
   ]
  },
  {
   "cell_type": "markdown",
   "id": "f8081188-0de4-4ceb-bdd1-9a5304d2588c",
   "metadata": {},
   "source": [
    "## Hypothetical Improvements \n",
    "\n",
    "- I could try to train a model with encoder/decoder and compare performance but I felt that adding more and more complexity here is not the best solution.\n",
    "- It would help to have more data"
   ]
  },
  {
   "cell_type": "code",
   "execution_count": null,
   "id": "b03aa7a3-1a6c-4726-a9b4-31af643a5149",
   "metadata": {},
   "outputs": [],
   "source": []
  }
 ],
 "metadata": {
  "kernelspec": {
   "display_name": "Python 3 (ipykernel)",
   "language": "python",
   "name": "python3"
  },
  "language_info": {
   "codemirror_mode": {
    "name": "ipython",
    "version": 3
   },
   "file_extension": ".py",
   "mimetype": "text/x-python",
   "name": "python",
   "nbconvert_exporter": "python",
   "pygments_lexer": "ipython3",
   "version": "3.9.7"
  }
 },
 "nbformat": 4,
 "nbformat_minor": 5
}
